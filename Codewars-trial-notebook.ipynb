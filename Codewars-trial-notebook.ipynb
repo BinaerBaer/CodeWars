{
 "cells": [
  {
   "cell_type": "markdown",
   "metadata": {},
   "source": [
    "# Kata: mean square error\n",
    "https://www.codewars.com/kata/51edd51599a189fe7f000015/train/python"
   ]
  },
  {
   "cell_type": "markdown",
   "metadata": {},
   "source": [
    "Complete the function that\n",
    "\n",
    "* accepts two integer arrays of equal length\n",
    "* compares the value each member in one array to the corresponding member in the other\n",
    "* squares the absolute value difference between those two values\n",
    "* and returns the average of those squared absolute value difference between each member pair."
   ]
  },
  {
   "cell_type": "code",
   "execution_count": null,
   "metadata": {},
   "outputs": [],
   "source": [
    "def solution(a, b):\n",
    "    return sum((x - y)**2 for x, y in zip(a, b)) / len(a)"
   ]
  },
  {
   "cell_type": "markdown",
   "metadata": {},
   "source": [
    "# Hamming Numbers\n",
    "https://www.codewars.com/kata/526d84b98f428f14a60008da\n",
    "A *Hamming number* is a positive integer of the form 2i3j5k, for some non-negative integers i, j, and k.\n",
    "\n",
    "Write a function that computes the nth smallest Hamming number.\n",
    "\n",
    "Specifically:\n",
    "\n",
    "* The first smallest Hamming number is 1 = 203050\n",
    "* The second smallest Hamming number is 2 = 213050\n",
    "* The third smallest Hamming number is 3 = 203150\n",
    "* The fourth smallest Hamming number is 4 = 223050\n",
    "* The fifth smallest Hamming number is 5 = 203051\n",
    "* The 20 smallest Hamming numbers are given in example test fixture.\n",
    "\n",
    "Your code should be able to compute all of the smallest 5,000 (Clojure: 2000) Hamming numbers without timing out."
   ]
  },
  {
   "cell_type": "code",
   "execution_count": 12,
   "metadata": {},
   "outputs": [],
   "source": [
    "def hamming(n):\n",
    "    h=[]       \n",
    "    h.append(1)\n",
    "    n -= 1\n",
    "    while n:\n",
    "        i=j=k=0\n",
    "        while h[i]*2<=h[-1]:\n",
    "            i+=1\n",
    "        while h[j]*3<=h[-1]:\n",
    "            j+=1\n",
    "        while h[k]*5<=h[-1]:\n",
    "            k+=1\n",
    "        h.append(min(h[i]*2,h[j]*3,h[k]*5))\n",
    "        n-=1\n",
    "    return h"
   ]
  },
  {
   "cell_type": "code",
   "execution_count": 11,
   "metadata": {},
   "outputs": [],
   "source": [
    "res = hamming(5000)"
   ]
  },
  {
   "cell_type": "code",
   "execution_count": null,
   "metadata": {},
   "outputs": [],
   "source": []
  }
 ],
 "metadata": {
  "kernelspec": {
   "display_name": "Python 3",
   "language": "python",
   "name": "python3"
  },
  "language_info": {
   "codemirror_mode": {
    "name": "ipython",
    "version": 3
   },
   "file_extension": ".py",
   "mimetype": "text/x-python",
   "name": "python",
   "nbconvert_exporter": "python",
   "pygments_lexer": "ipython3",
   "version": "3.7.1"
  }
 },
 "nbformat": 4,
 "nbformat_minor": 2
}
