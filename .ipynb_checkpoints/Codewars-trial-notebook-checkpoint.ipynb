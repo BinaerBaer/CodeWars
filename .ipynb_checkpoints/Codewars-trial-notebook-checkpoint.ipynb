{
 "cells": [
  {
   "cell_type": "markdown",
   "metadata": {},
   "source": [
    "# Kata: mean square error\n",
    "https://www.codewars.com/kata/51edd51599a189fe7f000015/train/python"
   ]
  },
  {
   "cell_type": "markdown",
   "metadata": {},
   "source": [
    "Complete the function that\n",
    "\n",
    "* accepts two integer arrays of equal length\n",
    "* compares the value each member in one array to the corresponding member in the other\n",
    "* squares the absolute value difference between those two values\n",
    "* and returns the average of those squared absolute value difference between each member pair."
   ]
  },
  {
   "cell_type": "code",
   "execution_count": null,
   "metadata": {},
   "outputs": [],
   "source": [
    "def solution(a, b):\n",
    "    return sum((x - y)**2 for x, y in zip(a, b)) / len(a)"
   ]
  },
  {
   "cell_type": "markdown",
   "metadata": {},
   "source": [
    "---"
   ]
  },
  {
   "cell_type": "markdown",
   "metadata": {},
   "source": [
    "# Hamming Numbers\n",
    "https://www.codewars.com/kata/526d84b98f428f14a60008da\n",
    "\n",
    "A *Hamming number* is a positive integer of the form 2i3j5k, for some non-negative integers i, j, and k.\n",
    "\n",
    "Write a function that computes the nth smallest Hamming number.\n",
    "\n",
    "Specifically:\n",
    "\n",
    "* The first smallest Hamming number is 1 = 203050\n",
    "* The second smallest Hamming number is 2 = 213050\n",
    "* The third smallest Hamming number is 3 = 203150\n",
    "* The fourth smallest Hamming number is 4 = 223050\n",
    "* The fifth smallest Hamming number is 5 = 203051\n",
    "* The 20 smallest Hamming numbers are given in example test fixture.\n",
    "\n",
    "Your code should be able to compute all of the smallest 5,000 (Clojure: 2000) Hamming numbers without timing out."
   ]
  },
  {
   "cell_type": "code",
   "execution_count": 12,
   "metadata": {},
   "outputs": [],
   "source": [
    "def hamming(n):\n",
    "    h=[]       \n",
    "    h.append(1)\n",
    "    n -= 1\n",
    "    while n:\n",
    "        i=j=k=0\n",
    "        while h[i]*2<=h[-1]:\n",
    "            i+=1\n",
    "        while h[j]*3<=h[-1]:\n",
    "            j+=1\n",
    "        while h[k]*5<=h[-1]:\n",
    "            k+=1\n",
    "        h.append(min(h[i]*2,h[j]*3,h[k]*5))\n",
    "        n-=1\n",
    "    return h"
   ]
  },
  {
   "cell_type": "code",
   "execution_count": 11,
   "metadata": {},
   "outputs": [],
   "source": [
    "res = hamming(5000)"
   ]
  },
  {
   "cell_type": "markdown",
   "metadata": {},
   "source": [
    "---"
   ]
  },
  {
   "cell_type": "markdown",
   "metadata": {},
   "source": [
    "# WORK IN PROGRESS\n",
    "# Conway's Game of Life - Unlimited Edition\n",
    "https://www.codewars.com/kata/52423db9add6f6fc39000354/train/python\n",
    "\n",
    "Given a 2D array and a number of generations, compute n timesteps of Conway's Game of Life.\n",
    "\n",
    "The rules of the game are:\n",
    "\n",
    "1. Any live cell with fewer than two live neighbours dies, as if caused by underpopulation.\n",
    "2. Any live cell with more than three live neighbours dies, as if by overcrowding.\n",
    "3. Any live cell with two or three live neighbours lives on to the next generation.\n",
    "4. Any dead cell with exactly three live neighbours becomes a live cell.\n",
    "Each cell's neighborhood is the 8 cells immediately around it (i.e. Moore Neighborhood). The universe is infinite in both the x and y dimensions and all cells are initially dead - except for those specified in the arguments. The return value should be a 2d array cropped around all of the living cells. (If there are no living cells, then return [[]].)\n",
    "\n",
    "For illustration purposes, 0 and 1 will be represented as ░░ and ▓▓ blocks respectively (PHP, C: plain black and white squares). You can take advantage of the htmlize function to get a text representation of the universe, e.g.:\n",
    "\n",
    "```python\n",
    "print(htmlize(cells))```"
   ]
  },
  {
   "cell_type": "code",
   "execution_count": 2,
   "metadata": {},
   "outputs": [],
   "source": [
    "def get_generation(cells, generations):\n",
    "    return cells #"
   ]
  },
  {
   "cell_type": "code",
   "execution_count": 3,
   "metadata": {},
   "outputs": [
    {
     "ename": "NameError",
     "evalue": "name 'test' is not defined",
     "output_type": "error",
     "traceback": [
      "\u001b[1;31m---------------------------------------------------------------------------\u001b[0m",
      "\u001b[1;31mNameError\u001b[0m                                 Traceback (most recent call last)",
      "\u001b[1;32m<ipython-input-3-2b38064d951a>\u001b[0m in \u001b[0;36m<module>\u001b[1;34m\u001b[0m\n\u001b[0;32m     14\u001b[0m          [1,1,1]]\n\u001b[0;32m     15\u001b[0m \u001b[1;33m\u001b[0m\u001b[0m\n\u001b[1;32m---> 16\u001b[1;33m \u001b[0mtest\u001b[0m\u001b[1;33m.\u001b[0m\u001b[0mdescribe\u001b[0m\u001b[1;33m(\u001b[0m\u001b[1;34m'Glider<:LF:>'\u001b[0m \u001b[1;33m+\u001b[0m \u001b[0mhtmlize\u001b[0m\u001b[1;33m(\u001b[0m\u001b[0mstart\u001b[0m\u001b[1;33m)\u001b[0m\u001b[1;33m)\u001b[0m\u001b[1;33m\u001b[0m\u001b[1;33m\u001b[0m\u001b[0m\n\u001b[0m\u001b[0;32m     17\u001b[0m \u001b[0mtest\u001b[0m\u001b[1;33m.\u001b[0m\u001b[0mit\u001b[0m\u001b[1;33m(\u001b[0m\u001b[1;34m'Glider 1'\u001b[0m\u001b[1;33m)\u001b[0m\u001b[1;33m\u001b[0m\u001b[1;33m\u001b[0m\u001b[0m\n\u001b[0;32m     18\u001b[0m \u001b[1;33m\u001b[0m\u001b[0m\n",
      "\u001b[1;31mNameError\u001b[0m: name 'test' is not defined"
     ]
    }
   ],
   "source": [
    "def htmlize(array):\n",
    "    s = []\n",
    "    for row in array:\n",
    "        for cell in row:\n",
    "            s.append('▓▓' if cell else '░░')\n",
    "        s.append('<:LF:>')\n",
    "    return ''.join(s)\n",
    "\n",
    "start = [[1,0,0],\n",
    "         [0,1,1],\n",
    "         [1,1,0]]\n",
    "end   = [[0,1,0],\n",
    "         [0,0,1],\n",
    "         [1,1,1]]\n",
    "         \n",
    "test.describe('Glider<:LF:>' + htmlize(start))\n",
    "test.it('Glider 1')\n",
    "\n",
    "resp = get_generation(start, 1)\n",
    "test.expect(resp == end, 'Got<:LF:>' + htmlize(resp) + '<:LF:>instead of<:LF:>' + htmlize(end))"
   ]
  },
  {
   "cell_type": "code",
   "execution_count": null,
   "metadata": {},
   "outputs": [],
   "source": []
  }
 ],
 "metadata": {
  "kernelspec": {
   "display_name": "Python 3",
   "language": "python",
   "name": "python3"
  },
  "language_info": {
   "codemirror_mode": {
    "name": "ipython",
    "version": 3
   },
   "file_extension": ".py",
   "mimetype": "text/x-python",
   "name": "python",
   "nbconvert_exporter": "python",
   "pygments_lexer": "ipython3",
   "version": "3.7.6"
  }
 },
 "nbformat": 4,
 "nbformat_minor": 2
}
